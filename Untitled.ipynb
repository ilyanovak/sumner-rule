{
  "nbformat": 4,
  "nbformat_minor": 0,
  "metadata": {
    "colab": {
      "name": "Untitled",
      "provenance": [],
      "collapsed_sections": [],
      "authorship_tag": "ABX9TyNnjNzfEpp0G5+HbXqKHrwq",
      "include_colab_link": true
    },
    "kernelspec": {
      "name": "python3",
      "display_name": "Python 3"
    }
  },
  "cells": [
    {
      "cell_type": "markdown",
      "metadata": {
        "id": "view-in-github",
        "colab_type": "text"
      },
      "source": [
        "<a href=\"https://colab.research.google.com/github/ilyanovak/sumner-rule/blob/main/Untitled.ipynb\" target=\"_parent\"><img src=\"https://colab.research.google.com/assets/colab-badge.svg\" alt=\"Open In Colab\"/></a>"
      ]
    },
    {
      "cell_type": "markdown",
      "metadata": {
        "id": "_hBQNKz_MjHu"
      },
      "source": [
        "# Import Datasets"
      ]
    },
    {
      "cell_type": "code",
      "metadata": {
        "id": "68c882vT7os3"
      },
      "source": [
        "import pandas as pd\n",
        "\n",
        "# Import dataset of central bank independence\n",
        "cbi = pd.read_excel('https://github.com/ilyanovak/sumner-rule/blob/main/data/Garriga_CBI%20dataset%20v.July%202019.xls?raw=true',\n",
        "                    usecols=['cname', 'year', 'lvau_garriga'])\n",
        "cbi.columns = ['Country Name', 'Year', 'CBI Measure']\n",
        "\n",
        "# Import dataset of country GDP and government expenditures/revenues\n",
        "gdp = pd.read_csv('https://raw.githubusercontent.com/ilyanovak/sumner-rule/main/data/SNA_TABLE12_02102020231328182.csv',\n",
        "                  usecols=['LOCATION', 'Country', 'Year', 'Transaction', 'Sector', 'Value'])\n",
        "gdp.columns = ['Country Code', 'Country Name', 'Transaction', 'Sector', 'Year', 'Value']"
      ],
      "execution_count": 224,
      "outputs": []
    },
    {
      "cell_type": "markdown",
      "metadata": {
        "id": "JkW4adYtsUs0"
      },
      "source": [
        "# Data Wrangling"
      ]
    },
    {
      "cell_type": "code",
      "metadata": {
        "id": "Se6jeww7guRX"
      },
      "source": [
        "# Drop false data. FRG is always estimated at 89% of Germany \n",
        "country_drop = ['Former Federal Republic of Germany']\n",
        "\n",
        "gdp = gdp[~gdp['Country Name'].isin(country_drop)]"
      ],
      "execution_count": 225,
      "outputs": []
    },
    {
      "cell_type": "code",
      "metadata": {
        "id": "aL35mwQCrX3l",
        "outputId": "d26cc4c5-25d5-46c0-b837-ce0065a3ca35",
        "colab": {
          "base_uri": "https://localhost:8080/",
          "height": 35
        }
      },
      "source": [
        "# Change country names in cbi to be consistent with gdp\n",
        "country_map = {\n",
        "    'China': \"China (People's Republic of)\",\n",
        "    'Korea, Republic of': 'Korea', \n",
        "    'Russian Federation':'Russia',\n",
        "    'Slovakia': 'Slovak Republic',\n",
        "    'United States of America': 'United States'}\n",
        "\n",
        "cbi['Country Name'] = cbi['Country Name'].replace(country_map)\n",
        "\n",
        "# Confirm\n",
        "cbi_countries = cbi['Country Name'].values\n",
        "gdp_countries = gdp['Country Name'].values\n",
        "\n",
        "set(gdp_countries).difference(cbi_countries)"
      ],
      "execution_count": 226,
      "outputs": [
        {
          "output_type": "execute_result",
          "data": {
            "text/plain": [
              "set()"
            ]
          },
          "metadata": {
            "tags": []
          },
          "execution_count": 226
        }
      ]
    },
    {
      "cell_type": "code",
      "metadata": {
        "id": "AuCVEgBassIM"
      },
      "source": [
        "# Left join of cbi on gdp on Country Name/Year\n",
        "df_merged = pd.merge(gdp, cbi, on=['Country Name', 'Year'], how='left')"
      ],
      "execution_count": 229,
      "outputs": []
    },
    {
      "cell_type": "markdown",
      "metadata": {
        "id": "YccZu0aeMoMD"
      },
      "source": [
        "# References\n",
        "\n",
        "* **Dataset:** OECD (2020), “Government deficit/surplus, revenue, expenditure and main aggregates”, OECD.Stat (database). doi: https://stats.oecd.org/ (Accessed on 2020-10-02).\n",
        "* **Dataset:** Garriga, Ana Carolina.  2016.  Central Bank Independence in the World: A New Dataset. International Interactions 42 (5):849-868  doi: 10.1080/03050629.2016.1188813\n",
        "* **Dataset:** Jérémie Cohen-Setton, Egor Gornostay and Colombe Ladreit de Lacharrière. 2019. Aggregate Effects of Budget Stimulus: Evidence from the Large Fiscal Expansions Database. doi: https://www.piie.com/publications/working-papers/aggregate-effects-budget-stimulus-evidence-large-fiscal-expansions"
      ]
    }
  ]
}